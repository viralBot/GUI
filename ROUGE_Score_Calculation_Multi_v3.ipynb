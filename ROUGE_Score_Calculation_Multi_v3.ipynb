{
  "cells": [
    {
      "cell_type": "markdown",
      "metadata": {
        "id": "view-in-github",
        "colab_type": "text"
      },
      "source": [
        "<a href=\"https://colab.research.google.com/github/viralBot/GUI/blob/main/ROUGE_Score_Calculation_Multi_v3.ipynb\" target=\"_parent\"><img src=\"https://colab.research.google.com/assets/colab-badge.svg\" alt=\"Open In Colab\"/></a>"
      ]
    },
    {
      "cell_type": "code",
      "execution_count": null,
      "metadata": {
        "id": "EEx1yfBFdoEw",
        "colab": {
          "base_uri": "https://localhost:8080/"
        },
        "outputId": "e6393546-478e-408b-a50f-509ae17197bb"
      },
      "outputs": [
        {
          "output_type": "stream",
          "name": "stdout",
          "text": [
            "Mounted at /content/drive\n"
          ]
        }
      ],
      "source": [
        "from google.colab import drive\n",
        "drive.mount(\"/content/drive\", force_remount = True)"
      ]
    },
    {
      "cell_type": "code",
      "execution_count": null,
      "metadata": {
        "id": "47nPv1ZeeY0J"
      },
      "outputs": [],
      "source": [
        "!pip install pyrouge -q --use-deprecated=legacy-resolver\n",
        "!pip install py-rouge -q --use-deprecated=legacy-resolver\n",
        "!pip install indic-nlp-library -q --use-deprecated=legacy-resolver\n",
        "!pip install evaluate -q --use-deprecated=legacy-resolver"
      ]
    },
    {
      "cell_type": "code",
      "execution_count": null,
      "metadata": {
        "id": "4fUDzPg3VeiH",
        "colab": {
          "base_uri": "https://localhost:8080/"
        },
        "outputId": "ee0e2e6c-eaa0-453b-ebe0-e89ef98bf7e5"
      },
      "outputs": [
        {
          "output_type": "stream",
          "name": "stdout",
          "text": [
            "/root\n"
          ]
        }
      ],
      "source": [
        "%cd \"\""
      ]
    },
    {
      "cell_type": "code",
      "execution_count": null,
      "metadata": {
        "id": "gvZxAUEPVurA",
        "colab": {
          "base_uri": "https://localhost:8080/"
        },
        "outputId": "c7411d54-1329-4c4a-95be-0e477b978712"
      },
      "outputs": [
        {
          "output_type": "stream",
          "name": "stdout",
          "text": [
            "/content\n"
          ]
        }
      ],
      "source": [
        "%cd /content"
      ]
    },
    {
      "cell_type": "markdown",
      "metadata": {
        "id": "FLVi3tyyxSBn"
      },
      "source": [
        "## Multi-lingual ROUGE, Repo: https://github.com/csebuetnlp/xl-sum.git"
      ]
    },
    {
      "cell_type": "code",
      "execution_count": null,
      "metadata": {
        "id": "TtZGQoS4zTnR",
        "colab": {
          "base_uri": "https://localhost:8080/",
          "height": 35
        },
        "outputId": "bcbf23bc-aeea-4d39-dff9-e5e35189598d"
      },
      "outputs": [
        {
          "output_type": "execute_result",
          "data": {
            "text/plain": [
              "'/content'"
            ],
            "application/vnd.google.colaboratory.intrinsic+json": {
              "type": "string"
            }
          },
          "metadata": {},
          "execution_count": 22
        }
      ],
      "source": [
        "%pwd"
      ]
    },
    {
      "cell_type": "code",
      "execution_count": null,
      "metadata": {
        "id": "jIOXeR67edeX",
        "colab": {
          "base_uri": "https://localhost:8080/"
        },
        "outputId": "cf193b76-309e-40cb-e9c3-2948956e7180"
      },
      "outputs": [
        {
          "output_type": "stream",
          "name": "stdout",
          "text": [
            "fatal: destination path 'xl-sum' already exists and is not an empty directory.\n"
          ]
        }
      ],
      "source": [
        "!git clone https://github.com/csebuetnlp/xl-sum.git"
      ]
    },
    {
      "cell_type": "code",
      "execution_count": null,
      "metadata": {
        "id": "aLPRuI0JvpvA",
        "colab": {
          "base_uri": "https://localhost:8080/"
        },
        "outputId": "c439a261-e2db-47b0-f666-807bf7e9eadc"
      },
      "outputs": [
        {
          "output_type": "stream",
          "name": "stdout",
          "text": [
            "/content/xl-sum/multilingual_rouge_scoring\n",
            "\u001b[0m\u001b[01;34mbuild\u001b[0m/        README.md              rouge_scorer.py  setuptools\n",
            "__init__.py   requirements.txt       scoring.py       stemmers.py\n",
            "io.py         rouge.py               setup.cfg        tokenization_wrapper.py\n",
            "\u001b[01;34m__pycache__\u001b[0m/  \u001b[01;34mrouge_score.egg-info\u001b[0m/  setup.py         tokenizers.py\n"
          ]
        }
      ],
      "source": [
        "%cd /content/xl-sum/multilingual_rouge_scoring\n",
        "# %ls"
      ]
    },
    {
      "cell_type": "code",
      "execution_count": null,
      "metadata": {
        "id": "haQEN5eTeobd",
        "colab": {
          "base_uri": "https://localhost:8080/"
        },
        "outputId": "df91d4d6-565c-47ad-d032-9f9048d3d813"
      },
      "outputs": [
        {
          "output_type": "stream",
          "name": "stdout",
          "text": [
            "  Preparing metadata (setup.py) ... \u001b[?25l\u001b[?25hdone\n",
            "  Preparing metadata (setup.py) ... \u001b[?25l\u001b[?25hdone\n",
            "  Preparing metadata (setup.py) ... \u001b[?25l\u001b[?25hdone\n",
            "  Building wheel for rouge_score (setup.py) ... \u001b[?25l\u001b[?25hdone\n"
          ]
        }
      ],
      "source": [
        "!pip install -r requirements.txt -q\n",
        "# !python3 -m unidic download # for japanese segmentation\n",
        "!pip install -q --upgrade ./"
      ]
    },
    {
      "cell_type": "code",
      "execution_count": null,
      "metadata": {
        "id": "eygmVMmh3-nR"
      },
      "outputs": [],
      "source": [
        "from rouge_score import rouge_scorer\n",
        "from collections import defaultdict"
      ]
    },
    {
      "cell_type": "code",
      "execution_count": null,
      "metadata": {
        "id": "oaS1FtVSy_s1"
      },
      "outputs": [],
      "source": [
        "import pandas as pd, os, re\n",
        "from tqdm.notebook import tqdm"
      ]
    },
    {
      "cell_type": "code",
      "execution_count": null,
      "metadata": {
        "id": "mKQNDe5GTy3H",
        "colab": {
          "base_uri": "https://localhost:8080/"
        },
        "outputId": "6862f6e1-9da5-4c15-811d-745faab47cf4"
      },
      "outputs": [
        {
          "output_type": "execute_result",
          "data": {
            "text/plain": [
              "True"
            ]
          },
          "metadata": {},
          "execution_count": 12
        }
      ],
      "source": [
        "import nltk\n",
        "nltk.download('punkt', quiet = True)"
      ]
    },
    {
      "cell_type": "code",
      "execution_count": null,
      "metadata": {
        "id": "rFJQWYzqGflx",
        "colab": {
          "base_uri": "https://localhost:8080/",
          "height": 35
        },
        "outputId": "ba7d4f6b-d6a2-4b7a-d320-ef938f0b9c5a"
      },
      "outputs": [
        {
          "output_type": "execute_result",
          "data": {
            "text/plain": [
              "'/content/xl-sum/multilingual_rouge_scoring'"
            ],
            "application/vnd.google.colaboratory.intrinsic+json": {
              "type": "string"
            }
          },
          "metadata": {},
          "execution_count": 13
        }
      ],
      "source": [
        "%pwd"
      ]
    },
    {
      "cell_type": "code",
      "execution_count": null,
      "metadata": {
        "id": "-Pf1drJ5znpx",
        "colab": {
          "base_uri": "https://localhost:8080/"
        },
        "outputId": "0ff3e093-28d3-4343-8c60-6e1f05bd4095"
      },
      "outputs": [
        {
          "output_type": "stream",
          "name": "stdout",
          "text": [
            "/content\n"
          ]
        }
      ],
      "source": [
        "%cd /content/"
      ]
    },
    {
      "cell_type": "code",
      "execution_count": null,
      "metadata": {
        "id": "N7a86ShZpggm"
      },
      "outputs": [],
      "source": [
        "!mkdir working"
      ]
    },
    {
      "cell_type": "code",
      "execution_count": null,
      "metadata": {
        "id": "wCQXoQ1bpggn",
        "colab": {
          "base_uri": "https://localhost:8080/"
        },
        "outputId": "2dddf8aa-197d-4c28-fd52-6e00ef71a6f6"
      },
      "outputs": [
        {
          "output_type": "stream",
          "name": "stdout",
          "text": [
            "/content/working\n"
          ]
        }
      ],
      "source": [
        "%cd working"
      ]
    },
    {
      "cell_type": "code",
      "execution_count": null,
      "metadata": {
        "id": "ZloVp81wpggo"
      },
      "outputs": [],
      "source": [
        "def count_folders(directory_path):\n",
        "    if not os.path.isdir(directory_path):\n",
        "        print(\"The provided path is not a directory.\")\n",
        "        return -1\n",
        "\n",
        "    folder_count = 0\n",
        "    for item in os.listdir(directory_path):\n",
        "        if os.path.isdir(os.path.join(directory_path, item)):\n",
        "            folder_count += 1\n",
        "\n",
        "    return folder_count"
      ]
    },
    {
      "cell_type": "code",
      "execution_count": null,
      "metadata": {
        "id": "Ce-0jDkU4bPV"
      },
      "outputs": [],
      "source": [
        "# !unzip /content/drive/MyDrive/PhD_Research_Work/Legal_Text_Summarization/InLegalDocSum_Test/Test_Data_50_Results.zip\n"
      ]
    },
    {
      "cell_type": "code",
      "execution_count": null,
      "metadata": {
        "id": "g1VuS_vepggq"
      },
      "outputs": [],
      "source": [
        "# parent_dir_path = '/content/working'\n",
        "\n",
        "parent_dir_path = '/content/drive/MyDrive/'\n",
        "\n",
        "test_dir_path = os.path.join(parent_dir_path, 'Test_Data_50_Results_LSA')\n"
      ]
    },
    {
      "cell_type": "code",
      "execution_count": null,
      "metadata": {
        "id": "rAAisHX7pggq",
        "colab": {
          "base_uri": "https://localhost:8080/"
        },
        "outputId": "fd4e08d9-fd25-4748-d953-f2cb7a21cf40"
      },
      "outputs": [
        {
          "output_type": "stream",
          "name": "stdout",
          "text": [
            "Number of folders in /content/drive/MyDrive/Test_Data_50_Results_LSA: 50\n"
          ]
        }
      ],
      "source": [
        "print(f\"Number of folders in {test_dir_path}: {count_folders(test_dir_path)}\")"
      ]
    },
    {
      "cell_type": "code",
      "execution_count": null,
      "metadata": {
        "id": "BVJsXEXiJUM5",
        "colab": {
          "base_uri": "https://localhost:8080/"
        },
        "outputId": "4eca6eff-0dd0-4eaa-a8ae-3b90d0511dae"
      },
      "outputs": [
        {
          "output_type": "stream",
          "name": "stdout",
          "text": [
            "en\n"
          ]
        }
      ],
      "source": [
        "lang = 'English'\n",
        "lang_code = 'EN'\n",
        "\n",
        "# lang = 'Hindi'\n",
        "# lang_code = 'HI'\n",
        "\n",
        "print(lang_code.lower()) # loawer case lang code"
      ]
    },
    {
      "cell_type": "code",
      "execution_count": null,
      "metadata": {
        "id": "Df61r_NuMgTn"
      },
      "outputs": [],
      "source": [
        "ref_extension = f'.{lang_code.lower()}'\n",
        "gen_extension = f'.gen{lang_code.lower()}'"
      ]
    },
    {
      "cell_type": "code",
      "execution_count": null,
      "metadata": {
        "id": "ESN2_WHiJzSB"
      },
      "outputs": [],
      "source": [
        "Summarization_model = 'LSA_v1'"
      ]
    },
    {
      "cell_type": "code",
      "execution_count": null,
      "metadata": {
        "id": "uTxzKNXMRqI3"
      },
      "outputs": [],
      "source": [
        "def to_file(f,content):\n",
        "  with open(f,'w',encoding='utf-8') as d:\n",
        "    d.write(content)"
      ]
    },
    {
      "cell_type": "code",
      "execution_count": null,
      "metadata": {
        "id": "kIvOenmV5Ej0"
      },
      "outputs": [],
      "source": [
        "ref_en_summ_dir = '/content/drive/MyDrive/Test_Data_50'"
      ]
    },
    {
      "cell_type": "code",
      "execution_count": null,
      "metadata": {
        "id": "JyQfEAaf5EQn",
        "colab": {
          "base_uri": "https://localhost:8080/"
        },
        "outputId": "70d88576-74b4-4a60-d38a-55cc34c67aff"
      },
      "outputs": [
        {
          "output_type": "stream",
          "name": "stdout",
          "text": [
            "Number of folders in /content/drive/MyDrive/Test_Data_50: 50\n"
          ]
        }
      ],
      "source": [
        "print(f\"Number of folders in {ref_en_summ_dir}: {count_folders(ref_en_summ_dir)}\")"
      ]
    },
    {
      "cell_type": "code",
      "execution_count": null,
      "metadata": {
        "id": "pMsJtQ74mvgO",
        "colab": {
          "base_uri": "https://localhost:8080/"
        },
        "outputId": "e2598168-7fff-4545-ea14-3a248ab51bbd"
      },
      "outputs": [
        {
          "output_type": "stream",
          "name": "stdout",
          "text": [
            "Complete for datapoint: 1\n",
            "------------------------\n",
            "Complete for datapoint: 2\n",
            "------------------------\n",
            "Complete for datapoint: 3\n",
            "------------------------\n",
            "Complete for datapoint: 4\n",
            "------------------------\n",
            "Complete for datapoint: 5\n",
            "------------------------\n",
            "Complete for datapoint: 6\n",
            "------------------------\n",
            "Complete for datapoint: 7\n",
            "------------------------\n",
            "Complete for datapoint: 8\n",
            "------------------------\n",
            "Complete for datapoint: 9\n",
            "------------------------\n",
            "Complete for datapoint: 10\n",
            "------------------------\n",
            "Complete for datapoint: 11\n",
            "------------------------\n",
            "Complete for datapoint: 12\n",
            "------------------------\n",
            "Complete for datapoint: 13\n",
            "------------------------\n",
            "Complete for datapoint: 14\n",
            "------------------------\n",
            "Complete for datapoint: 15\n",
            "------------------------\n",
            "Complete for datapoint: 16\n",
            "------------------------\n",
            "Complete for datapoint: 17\n",
            "------------------------\n",
            "Complete for datapoint: 18\n",
            "------------------------\n",
            "Complete for datapoint: 19\n",
            "------------------------\n",
            "Complete for datapoint: 20\n",
            "------------------------\n",
            "Complete for datapoint: 21\n",
            "------------------------\n",
            "Complete for datapoint: 22\n",
            "------------------------\n",
            "Complete for datapoint: 23\n",
            "------------------------\n",
            "Complete for datapoint: 24\n",
            "------------------------\n",
            "Complete for datapoint: 25\n",
            "------------------------\n",
            "Complete for datapoint: 26\n",
            "------------------------\n",
            "Complete for datapoint: 27\n",
            "------------------------\n",
            "Complete for datapoint: 28\n",
            "------------------------\n",
            "Complete for datapoint: 29\n",
            "------------------------\n",
            "Complete for datapoint: 30\n",
            "------------------------\n",
            "Complete for datapoint: 31\n",
            "------------------------\n",
            "Complete for datapoint: 32\n",
            "------------------------\n",
            "Complete for datapoint: 33\n",
            "------------------------\n",
            "Complete for datapoint: 34\n",
            "------------------------\n",
            "Complete for datapoint: 35\n",
            "------------------------\n",
            "Complete for datapoint: 36\n",
            "------------------------\n",
            "Complete for datapoint: 37\n",
            "------------------------\n",
            "Complete for datapoint: 38\n",
            "------------------------\n",
            "Complete for datapoint: 39\n",
            "------------------------\n",
            "Complete for datapoint: 40\n",
            "------------------------\n",
            "Complete for datapoint: 41\n",
            "------------------------\n",
            "Complete for datapoint: 42\n",
            "------------------------\n",
            "Complete for datapoint: 43\n",
            "------------------------\n",
            "Complete for datapoint: 44\n",
            "------------------------\n",
            "Complete for datapoint: 45\n",
            "------------------------\n",
            "Complete for datapoint: 46\n",
            "------------------------\n",
            "Complete for datapoint: 47\n",
            "------------------------\n",
            "Complete for datapoint: 48\n",
            "------------------------\n",
            "Complete for datapoint: 49\n",
            "------------------------\n",
            "Complete for datapoint: 50\n",
            "------------------------\n"
          ]
        }
      ],
      "source": [
        "refs=[]\n",
        "hypes=[]\n",
        "\n",
        "for index, subdir in enumerate(os.listdir(test_dir_path), start = 0):\n",
        "  subdir_path = os.path.join(test_dir_path, subdir)\n",
        "  ref_en_summary_dir_path = os.path.join(ref_en_summ_dir, subdir)\n",
        "  if os.path.isdir(subdir_path):\n",
        "    ref_en_summary_file_path = os.path.join(ref_en_summary_dir_path, f'Summ_{lang_code}.txt')\n",
        "    # gen_en_summary_file_path = os.path.join(subdir_path, f'{Summarization_model}_Summary_{lang_code}_IndicTrans.txt')\n",
        "    gen_en_summary_file_path = os.path.join(subdir_path, f'{Summarization_model}_{lang_code}_Summary.txt')\n",
        "\n",
        "\n",
        "    with open(ref_en_summary_file_path, 'r', encoding='utf-8') as ref_en_summary_file:\n",
        "      ref_en_summary = ref_en_summary_file.read()\n",
        "\n",
        "    with open(gen_en_summary_file_path, 'r', encoding='utf-8') as gen_en_summary_file:\n",
        "      gen_en_summary = gen_en_summary_file.read()\n",
        "\n",
        "    # print(ref_en_summary)\n",
        "    # print(gen_en_summary)\n",
        "\n",
        "    id = str(subdir)\n",
        "    to_file(id+ref_extension, ref_en_summary)\n",
        "    to_file(id+gen_extension, gen_en_summary)\n",
        "    refs.append(id+ref_extension)\n",
        "    hypes.append(id+gen_extension)\n",
        "\n",
        "    print(f\"Complete for datapoint: {index+1}\")\n",
        "    print(\"------------------------\")\n",
        "\n",
        "    # if index == 2:\n",
        "    #   break"
      ]
    },
    {
      "cell_type": "code",
      "execution_count": null,
      "metadata": {
        "id": "GgV_2inGTaT4",
        "colab": {
          "base_uri": "https://localhost:8080/"
        },
        "outputId": "d505502c-ce35-4058-a9db-6e0098f2e569"
      },
      "outputs": [
        {
          "output_type": "stream",
          "name": "stdout",
          "text": [
            "50 50\n"
          ]
        }
      ],
      "source": [
        "print(len(hypes), len(refs))"
      ]
    },
    {
      "cell_type": "code",
      "execution_count": null,
      "metadata": {
        "id": "Yy9ccURBqgL8",
        "colab": {
          "base_uri": "https://localhost:8080/",
          "height": 35
        },
        "outputId": "d8e4c528-dbc0-47bb-ce75-1dc8eb4fed06"
      },
      "outputs": [
        {
          "output_type": "execute_result",
          "data": {
            "text/plain": [
              "'/content/working'"
            ],
            "application/vnd.google.colaboratory.intrinsic+json": {
              "type": "string"
            }
          },
          "metadata": {},
          "execution_count": 29
        }
      ],
      "source": [
        "%pwd"
      ]
    },
    {
      "cell_type": "code",
      "execution_count": null,
      "metadata": {
        "id": "8kciaBBnqjux"
      },
      "outputs": [],
      "source": [
        "def rnd(dic):\n",
        "  if type(dic) != dict:\n",
        "    return round(dic,4) * 100\n",
        "  for k in dic:\n",
        "    dic[k] = rnd(dic[k])\n",
        "  return dic"
      ]
    },
    {
      "cell_type": "code",
      "execution_count": null,
      "metadata": {
        "id": "6DhzqGTDfgIF",
        "colab": {
          "base_uri": "https://localhost:8080/"
        },
        "outputId": "6175ac3f-f372-4d9c-926f-5e82419cd5d0"
      },
      "outputs": [
        {
          "output_type": "stream",
          "name": "stdout",
          "text": [
            "MANU_SC_1979_0265.genen MANU_SC_1979_0265.en\n"
          ]
        }
      ],
      "source": [
        "print(hypes[0], refs[0])"
      ]
    },
    {
      "cell_type": "code",
      "execution_count": null,
      "metadata": {
        "id": "rPEGexJ9Jr7m"
      },
      "outputs": [],
      "source": []
    },
    {
      "cell_type": "code",
      "execution_count": null,
      "metadata": {
        "id": "Zy7nnEyMn1hw"
      },
      "outputs": [],
      "source": [
        "def read_file(file_path):\n",
        "  with open(file_path, 'r', encoding='utf-8') as f:\n",
        "    return f.read()"
      ]
    },
    {
      "cell_type": "code",
      "execution_count": null,
      "metadata": {
        "id": "c9PNjvU0n2Mr",
        "colab": {
          "base_uri": "https://localhost:8080/"
        },
        "outputId": "b0ea84a6-c83b-4d32-c462-bdfbdc207be0"
      },
      "outputs": [
        {
          "output_type": "stream",
          "name": "stdout",
          "text": [
            "Two petitioners-Batra and Sobraj-one Indian and the other French, one under death sentence and the other facing grave charges, share too different shapes, the sailing and arrows of incarceratory fortune, but instead of submitting to what they describe as shocking jail injustice, challenge, by separate writ petitions, such traumatic treatment as illegal. 1966) that when the responsible prison authorities... have abandoned elemental concepts of decency by permitting conditions to prevail of a shocking and debased nature, then the courts must intervene promptly to restore the primal rules of a civilized community in accord with the mandate of the Constitution of the United States. It is the necessitous task of this Court, when invited appropriately, to adventure even into fresh areas of agony and injustice and to inject humane constitutional ethic into imperial statutory survivals, especially when the (prison) Executive, thirty years after Independence, defends the alleged wrong as right and the Legislatures, whose members, over the decades, are not altogether strangers to the hurtful features of jails, are perhaps pre- occupied with more popular business than concern for the detained derelicts who are a scattered, voiceless noiseless minority. Class actions, community litigations, representative suits, test cases and public interest proceedings' are in advance on our traditional court processes and faster people's vicarious involvement in our justice system with a broad based concept of locus standi so necessary in a democracy where the masses are in many senses weak. Suffice it to say that, so long as judges are invigilators and enforcers of constitutionality and performance auditors of legality, and convicts serve terms in that grim microcosm called prison by the mandate of the court, a continuing institutional responsibility vests in the system to monitor in the incarceratory process and prevent security 'excesses'. Parenthetically, we may express surprise that, going by the Punjab Jail Manual (1975), the politically notorious Regulation III of 1818 and ban on 'Gandhi cap' still survive in Free India's Corpus Juris what with all the sound and fury against detention without trial and national homage to Gandhiji. 24 (1910-11) p. 54-55 commenting on Weems v. United States urges such a progressive construction : The inhibition of the infliction of 'cruel and unusual punishment' first appears in the Bill of Rights of 1680, at a time when the humanity-of Judge Jeffreys of Bloody Assizes' fame and of his fellows under the Stuarts, loomed large in the popular mind.... The specific questions before us are whether the quasi-solitudinous cellular custody of sorts imposed on Batra is implicit in his death sentence and otherwise valid and the heavy irons forced on the person of Sobhraj still standing his trial comport with our constitutional guarantees qualified and curtailed by the prison environs. But once the death penalty was pronounced, the prison superintendent promptly tore him away from fellow human, stripped him of the B class facilities and locked him up in a single cell with a small walled yard attached, beyond the view and voice of others save the jail guards and formal visitors in discharge of their official chores and a few callers once in a blue moon. This segregation, notwithstanding the prescribed category of visitors permitted and censored letters allowed, argues Sri Chitale, is violation of the primordial gregariousness which, from the beginning of the species, has been man's social milieu and so constitutes a psychic trauma, when prolonged beyond years, too torture some for tears, even in our ancient land of silent mystics and lonely cavemen. Then you know that moments bear slow malice; hours hang heavy with ennui; days drop dead, and lonely weeks wear a vicious stillness; for sure, weary months or singleness, with monotonous nights, made more hurtful by the swarms of mosquitoes singing and stinging, and in many cells, by the blood-thirsty armies of bugs, invisibly emerging from nocturnal nowhere, to hide and bite, make for lunacy.\n"
          ]
        }
      ],
      "source": [
        "print(read_file(hypes[0]))"
      ]
    },
    {
      "cell_type": "code",
      "execution_count": null,
      "metadata": {
        "id": "QVbTca1Un9wM",
        "colab": {
          "base_uri": "https://localhost:8080/"
        },
        "outputId": "52572acc-6188-4694-dc95-d216bc9793dd"
      },
      "outputs": [
        {
          "output_type": "stream",
          "name": "stdout",
          "text": [
            "In the instant case, a petition was admitted by the Court arising out of a letter written\n",
            "by Sunil Batra, a convict in the Tihar Jail to one of the judges alleging that a warden had\n",
            "caused a brutal bleeding injury to another convict named Prem Chand. i\n",
            "The question before the Court was related to the human rights of prisoners in jail and the\n",
            "continued extension of fundamental rights to prisoners despite conviction.\n",
            "On the role of the Court:\n",
            "The Court liberalised the procedural limitations of the wnt of Habeas Corpus by recognising\n",
            "the right of the prisoner against excesses committed by jail authorities. Acknowledging the\n",
            "activist rule making role of the Courts, it said that \"The Court is not a distinct abstraction\n",
            "omnipotent in books but an activist institution which 1s the cynosure of the public hope\"\n",
            "On the status of the prisoners:\n",
            "The Bench laid down important principles regarding the status of the\n",
            "prisoners. The Court, in its decision also relied on The Declaration on the\n",
            "Protection of All Persons from Being Subjected to Torture and Other\n",
            "Cruel, Inhuman or Degrading Treatment or Punishment adopted by the\n",
            "U.N General Assembly (Resolution 3452 of 9 December 1975). The\n",
            "Constitution Bench upheld the fundamental rights of the prisoners and\n",
            "held that:\n",
            "\"Are prisoners persons? Yes, of course. To answer in the negative is to convict the\n",
            "nation and the Constitution of dehumanization and to repudiate the world legal\n",
            "order, which now recognises rights of prisoners in the International Covenant of\n",
            "Prisoners' Rights to which our country has signed assent, In Batra's case, this\n",
            "Court has rejected the hands-offdoctrine and it has been ruled that fundamental\n",
            "rights do not flee the person as he enters the prison although they may suffer\n",
            "shrinkage necessitated by incarceration. Our Constitutional culture has now\n",
            "crystalized in favour of prison justice and judicial jurisdiction.\"\n",
            "Directives:\n",
            "Holding that the prisoner Prem Chand was illegally tortured, the Court gave the following\n",
            "clear and binding directives to the State and prison staff in order to ensure the humanisation\n",
            "of jail administration:\n",
            "- Supervisory Judicial Role: Lawyers nominated by the District Magistrate, Sessions Judge,\n",
            "High Court and the Supreme Court to be given all facilities for interviews, visits and\n",
            "confidential communication with prisoners subject to discipline and security\n",
            "considerations. The lawyers so designated are bound to make periodical visits and record\n",
            "and report to the concerned Court results which have relevance to legal grievances.\n",
            "- Grievance Recording: Grievance Deposit Boxes to be\n",
            "maintained with access granted to all prisoners. These boxes\n",
            "are to be opened often and appropriate action for redress to\n",
            "be taken.\n",
            "- Judicial Intervention: Magistrates and sessions Judges to personally visit jails, make\n",
            "expeditious enquiries and take suitable remedial action. In appropriate cases, reports\n",
            "shall be made to the High Court and if required, Habeas action to be taken.\n",
            "- Judicial Appraisal: No solitary or punitive cell, no hard labour or\n",
            "dietary change as painful additive, no other punishment or denial of\n",
            "privileges and amenities, no transfer to other prisons with penal\n",
            "consequences, shall be imposed without appraisal from the Sessions\n",
            "judge.\n",
            "In addition fo these, the Court also gave certain\n",
            "recommendations:\n",
            "- The State to prepare and circulate in Hindi a Prisoner's\n",
            "Handbook to bring about legal awareness of the prisoner's\n",
            "rights. Periodic bulletin board updates regarding\n",
            "improvements programmes and a wall paper for grievance\n",
            "redressal. (Section 61 of Prisoner's Act)\n",
            "- The State shall take steps to keep up to the Standard Minimum Rules for Treatment of\n",
            "Prisoners recommended by the United Nations, especially those relating to work and\n",
            "wages, treatment with dignity community contact and correctional strategies,\n",
            "- A correctional-cum orientation course for the prison staff\n",
            "inculcating the Constitutional values, therapeutic approaches\n",
            "and tension~ free management.\n",
            "- Free legal services to the prisoner programmes shall be\n",
            "promoted by professional organisations recognised by the\n",
            "Court such as for e.g. Free Legal Aid (Supreme Court)\n",
            "Society.\n",
            "\n"
          ]
        }
      ],
      "source": [
        "print(read_file(refs[0]))"
      ]
    },
    {
      "cell_type": "code",
      "execution_count": null,
      "metadata": {
        "id": "vGQAYb5efTj-",
        "colab": {
          "base_uri": "https://localhost:8080/"
        },
        "outputId": "cb834b9e-440e-426a-936f-64bf5ee8ab06"
      },
      "outputs": [
        {
          "output_type": "stream",
          "name": "stdout",
          "text": [
            "['MANU_SC_2003_0234.genen', 'MANU_SC_1998_0827.genen']\n",
            "['MANU_SC_2003_0234.en', 'MANU_SC_1998_0827.en']\n"
          ]
        }
      ],
      "source": [
        "hyp_list = [hypes[5], hypes[8]]\n",
        "ref_list = [refs[5], refs[8]]\n",
        "\n",
        "print(hyp_list)\n",
        "print(ref_list)"
      ]
    },
    {
      "cell_type": "code",
      "execution_count": null,
      "metadata": {
        "id": "4FR7KcytfQei"
      },
      "outputs": [],
      "source": [
        "def compute_score_xl(hypothesis,references,lang):\n",
        "\n",
        "  scorer = rouge_scorer.RougeScorer(['rouge1','rouge2', 'rougeL'], use_stemmer=True)\n",
        "\n",
        "  # Initialize the dictionary\n",
        "  scr = scorer.score('The quick brown fox jumps over the lazy dog',\n",
        "                      'The quick brown dog jumps on the log.')\n",
        "\n",
        "  scores = defaultdict(dict)\n",
        "\n",
        "  cnt = 0\n",
        "  skip = 0\n",
        "  not_skip = 0\n",
        "\n",
        "  for k in scr:\n",
        "    # scores[k]['r'] = scr[k].recall\n",
        "    # scores[k]['p'] = scr[k].precision\n",
        "    # scores[k]['f'] = scr[k].fmeasure\n",
        "    scores[k]['r'] = 0.0\n",
        "    scores[k]['p'] = 0.0\n",
        "    scores[k]['f'] = 0.0\n",
        "\n",
        "  for hy,real in tqdm(zip(hypothesis,references)): #hypothesis : model generated file, references: file\n",
        "      try:\n",
        "          with open(hy,'r',encoding='utf-8') as hh:\n",
        "            hy_txt = hh.read()\n",
        "            hy_txt = hy_txt.replace(\"\\n\",\" \")\n",
        "            if len(hy_txt.strip()) < 10:\n",
        "              skip+=1\n",
        "              continue\n",
        "\n",
        "          with open(real,'r',encoding='utf-8') as hh:\n",
        "            real_txt = hh.read()\n",
        "            real_txt = real_txt.replace(\"\\n\",\" \")\n",
        "            if len(real_txt.strip()) < 10:\n",
        "              skip+=1\n",
        "              continue\n",
        "\n",
        "          not_skip+=1\n",
        "\n",
        "          # lang = 'hi' if real[-2:] == 'hi' else 'en'\n",
        "          # if lang == 'hi':\n",
        "          if lang != 'english':\n",
        "            scorer = rouge_scorer.RougeScorer(['rouge1','rouge2', 'rougeL'], use_stemmer=True, lang=lang)\n",
        "\n",
        "          if cnt ==0 : print(f\"\\nthe references are in {lang} language\")\n",
        "\n",
        "          scr = scorer.score(real_txt,hy_txt)\n",
        "          # print(sc)\n",
        "\n",
        "          for k in scores:\n",
        "              scores[k]['r'] += scr[k].recall\n",
        "              scores[k]['p'] += scr[k].precision\n",
        "              scores[k]['f'] += scr[k].fmeasure\n",
        "                  # scores[k][key] += sc[k][key]\n",
        "          cnt+=1\n",
        "          print(cnt)\n",
        "\n",
        "      except Exception as e:\n",
        "          print(f\"Following exception is found for file: {hy}\")\n",
        "          print(e)\n",
        "          # pass\n",
        "\n",
        "  # print(f\"Total Cnt: {cnt}\")\n",
        "\n",
        "  scores = dict(scores)\n",
        "  for k in scores:\n",
        "    for key in scores[k]:\n",
        "      # print(key)\n",
        "      scores[k][key] = (scores[k][key])/cnt\n",
        "\n",
        "  with open(f'check_xl.txt','w',encoding='utf-8') as f:\n",
        "    f.write(f\"Total: {cnt}, skip: {skip} and not_skip: {not_skip}\")\n",
        "\n",
        "  return rnd(scores)"
      ]
    },
    {
      "cell_type": "code",
      "execution_count": null,
      "metadata": {
        "id": "3mPxQ90w4Kxn",
        "colab": {
          "base_uri": "https://localhost:8080/"
        },
        "outputId": "88337789-04b4-4bbc-e178-18682368890d"
      },
      "outputs": [
        {
          "output_type": "stream",
          "name": "stdout",
          "text": [
            "/content/working\n"
          ]
        }
      ],
      "source": [
        "%cd /content/working"
      ]
    },
    {
      "cell_type": "code",
      "execution_count": null,
      "metadata": {
        "id": "o2EKsxk8JwMi",
        "colab": {
          "base_uri": "https://localhost:8080/"
        },
        "outputId": "70062ee4-1149-42e5-b020-dc9185ebf345"
      },
      "outputs": [
        {
          "output_type": "stream",
          "name": "stdout",
          "text": [
            "english\n"
          ]
        }
      ],
      "source": [
        "rg_lang = lang.lower()\n",
        "print(rg_lang)"
      ]
    },
    {
      "cell_type": "code",
      "execution_count": null,
      "metadata": {
        "id": "Rta95GMP0oXj",
        "colab": {
          "base_uri": "https://localhost:8080/",
          "height": 120,
          "referenced_widgets": [
            "7174455e52b74edbbbf6349b6182e453",
            "cef81a0f6dc541e8aa86bb86c9dc6abf",
            "9db708e451954be9a20a7244b1c40c17",
            "b77841ce1d70495eb8dadd4620aab711",
            "208daee7ba6b4b00ab33d447c1628713",
            "e2347eec3a674ee2bd63334a0952fcd0",
            "2d7bc8ef2e4a49c4af9fd77d2e29f776",
            "77b5bbb7763449819e8cba63905029c6",
            "cabac0493a3044e498fd96d9e796f0e8",
            "582b22865dd34d0a9c515ee2cb146a2c",
            "1f295dbf73fd43518d010e2cf6c4b449"
          ]
        },
        "outputId": "69b5cb70-e68b-4bd8-9173-d8dcf9aec26b"
      },
      "outputs": [
        {
          "output_type": "display_data",
          "data": {
            "text/plain": [
              "0it [00:00, ?it/s]"
            ],
            "application/vnd.jupyter.widget-view+json": {
              "version_major": 2,
              "version_minor": 0,
              "model_id": "7174455e52b74edbbbf6349b6182e453"
            }
          },
          "metadata": {}
        },
        {
          "output_type": "stream",
          "name": "stdout",
          "text": [
            "\n",
            "the references are in english language\n",
            "1\n",
            "2\n"
          ]
        }
      ],
      "source": [
        "rg_sample_xl = compute_score_xl(hyp_list, ref_list, lang = rg_lang)"
      ]
    },
    {
      "cell_type": "code",
      "execution_count": null,
      "metadata": {
        "id": "GIyPkucS0qhv",
        "colab": {
          "base_uri": "https://localhost:8080/"
        },
        "outputId": "ea46894a-a5e1-4c1b-a1ed-278c113292ac"
      },
      "outputs": [
        {
          "output_type": "execute_result",
          "data": {
            "text/plain": [
              "{'rouge1': {'r': 43.39, 'p': 52.75, 'f': 47.11},\n",
              " 'rouge2': {'r': 12.7, 'p': 15.440000000000001, 'f': 13.79},\n",
              " 'rougeL': {'r': 18.01, 'p': 22.28, 'f': 19.71}}"
            ]
          },
          "metadata": {},
          "execution_count": 40
        }
      ],
      "source": [
        "rg_sample_xl"
      ]
    },
    {
      "cell_type": "code",
      "execution_count": null,
      "metadata": {
        "id": "ffdT4SsNgzGQ",
        "colab": {
          "base_uri": "https://localhost:8080/",
          "height": 978,
          "referenced_widgets": [
            "5a91551d10e8425abdb1a8dad4f3c669",
            "1eecda029e264f19a5cdfd47bae029b5",
            "311385ff604c4b77841be13de72bc746",
            "0b8b2dd8acba43e09ea764525463571c",
            "b861f2b5328e4793a4dc6547935db3e3",
            "0896755cab084744a8b571fb6d7cb158",
            "1059d055eca14fd6bfb7af994aa1e4c1",
            "55cebfaa73e640548af8a5678ede83a7",
            "2a84e2ba4fbc4f3faf909e6fbe1f8e81",
            "cee0e8b3da08409a8945a8b2fdf83f7e",
            "8e9c3704bdcd4902bb2e0e9029900028"
          ]
        },
        "outputId": "6391f50f-d263-489a-8874-81449dd0068a"
      },
      "outputs": [
        {
          "output_type": "display_data",
          "data": {
            "text/plain": [
              "0it [00:00, ?it/s]"
            ],
            "application/vnd.jupyter.widget-view+json": {
              "version_major": 2,
              "version_minor": 0,
              "model_id": "5a91551d10e8425abdb1a8dad4f3c669"
            }
          },
          "metadata": {}
        },
        {
          "output_type": "stream",
          "name": "stdout",
          "text": [
            "\n",
            "the references are in english language\n",
            "1\n",
            "2\n",
            "3\n",
            "4\n",
            "5\n",
            "6\n",
            "7\n",
            "8\n",
            "9\n",
            "10\n",
            "11\n",
            "12\n",
            "13\n",
            "14\n",
            "15\n",
            "16\n",
            "17\n",
            "18\n",
            "19\n",
            "20\n",
            "21\n",
            "22\n",
            "23\n",
            "24\n",
            "25\n",
            "26\n",
            "27\n",
            "28\n",
            "29\n",
            "30\n",
            "31\n",
            "32\n",
            "33\n",
            "34\n",
            "35\n",
            "36\n",
            "37\n",
            "38\n",
            "39\n",
            "40\n",
            "41\n",
            "42\n",
            "43\n",
            "44\n",
            "45\n",
            "46\n",
            "47\n",
            "48\n",
            "49\n",
            "50\n"
          ]
        }
      ],
      "source": [
        "scr_xl = compute_score_xl(hypes, refs, lang = rg_lang)"
      ]
    },
    {
      "cell_type": "code",
      "execution_count": null,
      "metadata": {
        "id": "KVm0Ii8mrVZB",
        "colab": {
          "base_uri": "https://localhost:8080/"
        },
        "outputId": "e7aa33c1-e014-4380-e2f9-5a976dfb1de6"
      },
      "outputs": [
        {
          "output_type": "stream",
          "name": "stdout",
          "text": [
            "Total: 50, skip: 0 and not_skip: 50\n"
          ]
        }
      ],
      "source": [
        "with open('check_xl.txt', 'r', encoding='utf-8') as f:\n",
        "  print(f.read())"
      ]
    },
    {
      "cell_type": "code",
      "execution_count": null,
      "metadata": {
        "id": "ubCS0NXBxxFT",
        "colab": {
          "base_uri": "https://localhost:8080/"
        },
        "outputId": "c0ce5832-17c3-490b-b12a-f6ab062a6bba"
      },
      "outputs": [
        {
          "output_type": "stream",
          "name": "stdout",
          "text": [
            "Test dir path: /content/drive/MyDrive/Test_Data_50_Results_LSA\n"
          ]
        }
      ],
      "source": [
        "print(f\"Test dir path: {test_dir_path}\")"
      ]
    },
    {
      "cell_type": "code",
      "execution_count": null,
      "metadata": {
        "id": "UFHq24aMynlU",
        "colab": {
          "base_uri": "https://localhost:8080/"
        },
        "outputId": "0b1c849a-1c19-4261-ea7f-963533ec8d93"
      },
      "outputs": [
        {
          "output_type": "stream",
          "name": "stdout",
          "text": [
            "ROUGE Score for LSA_v1 in EN: {'rouge1': {'r': 43.71, 'p': 46.51, 'f': 44.99}, 'rouge2': {'r': 11.44, 'p': 12.17, 'f': 11.78}, 'rougeL': {'r': 19.08, 'p': 20.349999999999998, 'f': 19.66}}\n"
          ]
        }
      ],
      "source": [
        "print(f\"ROUGE Score for {Summarization_model} in {lang_code}: {scr_xl}\")"
      ]
    },
    {
      "cell_type": "code",
      "execution_count": null,
      "metadata": {
        "id": "BvFAx59eynlV",
        "colab": {
          "base_uri": "https://localhost:8080/"
        },
        "outputId": "270e8d36-d33a-46e8-f1f5-008adc9de9bd"
      },
      "outputs": [
        {
          "output_type": "execute_result",
          "data": {
            "text/plain": [
              "{'rouge1': {'r': 43.71, 'p': 46.51, 'f': 44.99},\n",
              " 'rouge2': {'r': 11.44, 'p': 12.17, 'f': 11.78},\n",
              " 'rougeL': {'r': 19.08, 'p': 20.349999999999998, 'f': 19.66}}"
            ]
          },
          "metadata": {},
          "execution_count": 45
        }
      ],
      "source": [
        "scr_xl"
      ]
    },
    {
      "cell_type": "code",
      "execution_count": null,
      "metadata": {
        "id": "IvjMbeqmk6vy"
      },
      "outputs": [],
      "source": []
    }
  ],
  "metadata": {
    "colab": {
      "provenance": [],
      "include_colab_link": true
    },
    "kernelspec": {
      "display_name": "Python 3",
      "name": "python3"
    },
    "language_info": {
      "name": "python"
    },
    "widgets": {
      "application/vnd.jupyter.widget-state+json": {
        "7174455e52b74edbbbf6349b6182e453": {
          "model_module": "@jupyter-widgets/controls",
          "model_name": "HBoxModel",
          "model_module_version": "1.5.0",
          "state": {
            "_dom_classes": [],
            "_model_module": "@jupyter-widgets/controls",
            "_model_module_version": "1.5.0",
            "_model_name": "HBoxModel",
            "_view_count": null,
            "_view_module": "@jupyter-widgets/controls",
            "_view_module_version": "1.5.0",
            "_view_name": "HBoxView",
            "box_style": "",
            "children": [
              "IPY_MODEL_cef81a0f6dc541e8aa86bb86c9dc6abf",
              "IPY_MODEL_9db708e451954be9a20a7244b1c40c17",
              "IPY_MODEL_b77841ce1d70495eb8dadd4620aab711"
            ],
            "layout": "IPY_MODEL_208daee7ba6b4b00ab33d447c1628713"
          }
        },
        "cef81a0f6dc541e8aa86bb86c9dc6abf": {
          "model_module": "@jupyter-widgets/controls",
          "model_name": "HTMLModel",
          "model_module_version": "1.5.0",
          "state": {
            "_dom_classes": [],
            "_model_module": "@jupyter-widgets/controls",
            "_model_module_version": "1.5.0",
            "_model_name": "HTMLModel",
            "_view_count": null,
            "_view_module": "@jupyter-widgets/controls",
            "_view_module_version": "1.5.0",
            "_view_name": "HTMLView",
            "description": "",
            "description_tooltip": null,
            "layout": "IPY_MODEL_e2347eec3a674ee2bd63334a0952fcd0",
            "placeholder": "​",
            "style": "IPY_MODEL_2d7bc8ef2e4a49c4af9fd77d2e29f776",
            "value": ""
          }
        },
        "9db708e451954be9a20a7244b1c40c17": {
          "model_module": "@jupyter-widgets/controls",
          "model_name": "FloatProgressModel",
          "model_module_version": "1.5.0",
          "state": {
            "_dom_classes": [],
            "_model_module": "@jupyter-widgets/controls",
            "_model_module_version": "1.5.0",
            "_model_name": "FloatProgressModel",
            "_view_count": null,
            "_view_module": "@jupyter-widgets/controls",
            "_view_module_version": "1.5.0",
            "_view_name": "ProgressView",
            "bar_style": "success",
            "description": "",
            "description_tooltip": null,
            "layout": "IPY_MODEL_77b5bbb7763449819e8cba63905029c6",
            "max": 1,
            "min": 0,
            "orientation": "horizontal",
            "style": "IPY_MODEL_cabac0493a3044e498fd96d9e796f0e8",
            "value": 1
          }
        },
        "b77841ce1d70495eb8dadd4620aab711": {
          "model_module": "@jupyter-widgets/controls",
          "model_name": "HTMLModel",
          "model_module_version": "1.5.0",
          "state": {
            "_dom_classes": [],
            "_model_module": "@jupyter-widgets/controls",
            "_model_module_version": "1.5.0",
            "_model_name": "HTMLModel",
            "_view_count": null,
            "_view_module": "@jupyter-widgets/controls",
            "_view_module_version": "1.5.0",
            "_view_name": "HTMLView",
            "description": "",
            "description_tooltip": null,
            "layout": "IPY_MODEL_582b22865dd34d0a9c515ee2cb146a2c",
            "placeholder": "​",
            "style": "IPY_MODEL_1f295dbf73fd43518d010e2cf6c4b449",
            "value": " 2/? [00:00&lt;00:00,  2.33it/s]"
          }
        },
        "208daee7ba6b4b00ab33d447c1628713": {
          "model_module": "@jupyter-widgets/base",
          "model_name": "LayoutModel",
          "model_module_version": "1.2.0",
          "state": {
            "_model_module": "@jupyter-widgets/base",
            "_model_module_version": "1.2.0",
            "_model_name": "LayoutModel",
            "_view_count": null,
            "_view_module": "@jupyter-widgets/base",
            "_view_module_version": "1.2.0",
            "_view_name": "LayoutView",
            "align_content": null,
            "align_items": null,
            "align_self": null,
            "border": null,
            "bottom": null,
            "display": null,
            "flex": null,
            "flex_flow": null,
            "grid_area": null,
            "grid_auto_columns": null,
            "grid_auto_flow": null,
            "grid_auto_rows": null,
            "grid_column": null,
            "grid_gap": null,
            "grid_row": null,
            "grid_template_areas": null,
            "grid_template_columns": null,
            "grid_template_rows": null,
            "height": null,
            "justify_content": null,
            "justify_items": null,
            "left": null,
            "margin": null,
            "max_height": null,
            "max_width": null,
            "min_height": null,
            "min_width": null,
            "object_fit": null,
            "object_position": null,
            "order": null,
            "overflow": null,
            "overflow_x": null,
            "overflow_y": null,
            "padding": null,
            "right": null,
            "top": null,
            "visibility": null,
            "width": null
          }
        },
        "e2347eec3a674ee2bd63334a0952fcd0": {
          "model_module": "@jupyter-widgets/base",
          "model_name": "LayoutModel",
          "model_module_version": "1.2.0",
          "state": {
            "_model_module": "@jupyter-widgets/base",
            "_model_module_version": "1.2.0",
            "_model_name": "LayoutModel",
            "_view_count": null,
            "_view_module": "@jupyter-widgets/base",
            "_view_module_version": "1.2.0",
            "_view_name": "LayoutView",
            "align_content": null,
            "align_items": null,
            "align_self": null,
            "border": null,
            "bottom": null,
            "display": null,
            "flex": null,
            "flex_flow": null,
            "grid_area": null,
            "grid_auto_columns": null,
            "grid_auto_flow": null,
            "grid_auto_rows": null,
            "grid_column": null,
            "grid_gap": null,
            "grid_row": null,
            "grid_template_areas": null,
            "grid_template_columns": null,
            "grid_template_rows": null,
            "height": null,
            "justify_content": null,
            "justify_items": null,
            "left": null,
            "margin": null,
            "max_height": null,
            "max_width": null,
            "min_height": null,
            "min_width": null,
            "object_fit": null,
            "object_position": null,
            "order": null,
            "overflow": null,
            "overflow_x": null,
            "overflow_y": null,
            "padding": null,
            "right": null,
            "top": null,
            "visibility": null,
            "width": null
          }
        },
        "2d7bc8ef2e4a49c4af9fd77d2e29f776": {
          "model_module": "@jupyter-widgets/controls",
          "model_name": "DescriptionStyleModel",
          "model_module_version": "1.5.0",
          "state": {
            "_model_module": "@jupyter-widgets/controls",
            "_model_module_version": "1.5.0",
            "_model_name": "DescriptionStyleModel",
            "_view_count": null,
            "_view_module": "@jupyter-widgets/base",
            "_view_module_version": "1.2.0",
            "_view_name": "StyleView",
            "description_width": ""
          }
        },
        "77b5bbb7763449819e8cba63905029c6": {
          "model_module": "@jupyter-widgets/base",
          "model_name": "LayoutModel",
          "model_module_version": "1.2.0",
          "state": {
            "_model_module": "@jupyter-widgets/base",
            "_model_module_version": "1.2.0",
            "_model_name": "LayoutModel",
            "_view_count": null,
            "_view_module": "@jupyter-widgets/base",
            "_view_module_version": "1.2.0",
            "_view_name": "LayoutView",
            "align_content": null,
            "align_items": null,
            "align_self": null,
            "border": null,
            "bottom": null,
            "display": null,
            "flex": null,
            "flex_flow": null,
            "grid_area": null,
            "grid_auto_columns": null,
            "grid_auto_flow": null,
            "grid_auto_rows": null,
            "grid_column": null,
            "grid_gap": null,
            "grid_row": null,
            "grid_template_areas": null,
            "grid_template_columns": null,
            "grid_template_rows": null,
            "height": null,
            "justify_content": null,
            "justify_items": null,
            "left": null,
            "margin": null,
            "max_height": null,
            "max_width": null,
            "min_height": null,
            "min_width": null,
            "object_fit": null,
            "object_position": null,
            "order": null,
            "overflow": null,
            "overflow_x": null,
            "overflow_y": null,
            "padding": null,
            "right": null,
            "top": null,
            "visibility": null,
            "width": "20px"
          }
        },
        "cabac0493a3044e498fd96d9e796f0e8": {
          "model_module": "@jupyter-widgets/controls",
          "model_name": "ProgressStyleModel",
          "model_module_version": "1.5.0",
          "state": {
            "_model_module": "@jupyter-widgets/controls",
            "_model_module_version": "1.5.0",
            "_model_name": "ProgressStyleModel",
            "_view_count": null,
            "_view_module": "@jupyter-widgets/base",
            "_view_module_version": "1.2.0",
            "_view_name": "StyleView",
            "bar_color": null,
            "description_width": ""
          }
        },
        "582b22865dd34d0a9c515ee2cb146a2c": {
          "model_module": "@jupyter-widgets/base",
          "model_name": "LayoutModel",
          "model_module_version": "1.2.0",
          "state": {
            "_model_module": "@jupyter-widgets/base",
            "_model_module_version": "1.2.0",
            "_model_name": "LayoutModel",
            "_view_count": null,
            "_view_module": "@jupyter-widgets/base",
            "_view_module_version": "1.2.0",
            "_view_name": "LayoutView",
            "align_content": null,
            "align_items": null,
            "align_self": null,
            "border": null,
            "bottom": null,
            "display": null,
            "flex": null,
            "flex_flow": null,
            "grid_area": null,
            "grid_auto_columns": null,
            "grid_auto_flow": null,
            "grid_auto_rows": null,
            "grid_column": null,
            "grid_gap": null,
            "grid_row": null,
            "grid_template_areas": null,
            "grid_template_columns": null,
            "grid_template_rows": null,
            "height": null,
            "justify_content": null,
            "justify_items": null,
            "left": null,
            "margin": null,
            "max_height": null,
            "max_width": null,
            "min_height": null,
            "min_width": null,
            "object_fit": null,
            "object_position": null,
            "order": null,
            "overflow": null,
            "overflow_x": null,
            "overflow_y": null,
            "padding": null,
            "right": null,
            "top": null,
            "visibility": null,
            "width": null
          }
        },
        "1f295dbf73fd43518d010e2cf6c4b449": {
          "model_module": "@jupyter-widgets/controls",
          "model_name": "DescriptionStyleModel",
          "model_module_version": "1.5.0",
          "state": {
            "_model_module": "@jupyter-widgets/controls",
            "_model_module_version": "1.5.0",
            "_model_name": "DescriptionStyleModel",
            "_view_count": null,
            "_view_module": "@jupyter-widgets/base",
            "_view_module_version": "1.2.0",
            "_view_name": "StyleView",
            "description_width": ""
          }
        },
        "5a91551d10e8425abdb1a8dad4f3c669": {
          "model_module": "@jupyter-widgets/controls",
          "model_name": "HBoxModel",
          "model_module_version": "1.5.0",
          "state": {
            "_dom_classes": [],
            "_model_module": "@jupyter-widgets/controls",
            "_model_module_version": "1.5.0",
            "_model_name": "HBoxModel",
            "_view_count": null,
            "_view_module": "@jupyter-widgets/controls",
            "_view_module_version": "1.5.0",
            "_view_name": "HBoxView",
            "box_style": "",
            "children": [
              "IPY_MODEL_1eecda029e264f19a5cdfd47bae029b5",
              "IPY_MODEL_311385ff604c4b77841be13de72bc746",
              "IPY_MODEL_0b8b2dd8acba43e09ea764525463571c"
            ],
            "layout": "IPY_MODEL_b861f2b5328e4793a4dc6547935db3e3"
          }
        },
        "1eecda029e264f19a5cdfd47bae029b5": {
          "model_module": "@jupyter-widgets/controls",
          "model_name": "HTMLModel",
          "model_module_version": "1.5.0",
          "state": {
            "_dom_classes": [],
            "_model_module": "@jupyter-widgets/controls",
            "_model_module_version": "1.5.0",
            "_model_name": "HTMLModel",
            "_view_count": null,
            "_view_module": "@jupyter-widgets/controls",
            "_view_module_version": "1.5.0",
            "_view_name": "HTMLView",
            "description": "",
            "description_tooltip": null,
            "layout": "IPY_MODEL_0896755cab084744a8b571fb6d7cb158",
            "placeholder": "​",
            "style": "IPY_MODEL_1059d055eca14fd6bfb7af994aa1e4c1",
            "value": ""
          }
        },
        "311385ff604c4b77841be13de72bc746": {
          "model_module": "@jupyter-widgets/controls",
          "model_name": "FloatProgressModel",
          "model_module_version": "1.5.0",
          "state": {
            "_dom_classes": [],
            "_model_module": "@jupyter-widgets/controls",
            "_model_module_version": "1.5.0",
            "_model_name": "FloatProgressModel",
            "_view_count": null,
            "_view_module": "@jupyter-widgets/controls",
            "_view_module_version": "1.5.0",
            "_view_name": "ProgressView",
            "bar_style": "success",
            "description": "",
            "description_tooltip": null,
            "layout": "IPY_MODEL_55cebfaa73e640548af8a5678ede83a7",
            "max": 1,
            "min": 0,
            "orientation": "horizontal",
            "style": "IPY_MODEL_2a84e2ba4fbc4f3faf909e6fbe1f8e81",
            "value": 1
          }
        },
        "0b8b2dd8acba43e09ea764525463571c": {
          "model_module": "@jupyter-widgets/controls",
          "model_name": "HTMLModel",
          "model_module_version": "1.5.0",
          "state": {
            "_dom_classes": [],
            "_model_module": "@jupyter-widgets/controls",
            "_model_module_version": "1.5.0",
            "_model_name": "HTMLModel",
            "_view_count": null,
            "_view_module": "@jupyter-widgets/controls",
            "_view_module_version": "1.5.0",
            "_view_name": "HTMLView",
            "description": "",
            "description_tooltip": null,
            "layout": "IPY_MODEL_cee0e8b3da08409a8945a8b2fdf83f7e",
            "placeholder": "​",
            "style": "IPY_MODEL_8e9c3704bdcd4902bb2e0e9029900028",
            "value": " 50/? [00:11&lt;00:00,  2.64it/s]"
          }
        },
        "b861f2b5328e4793a4dc6547935db3e3": {
          "model_module": "@jupyter-widgets/base",
          "model_name": "LayoutModel",
          "model_module_version": "1.2.0",
          "state": {
            "_model_module": "@jupyter-widgets/base",
            "_model_module_version": "1.2.0",
            "_model_name": "LayoutModel",
            "_view_count": null,
            "_view_module": "@jupyter-widgets/base",
            "_view_module_version": "1.2.0",
            "_view_name": "LayoutView",
            "align_content": null,
            "align_items": null,
            "align_self": null,
            "border": null,
            "bottom": null,
            "display": null,
            "flex": null,
            "flex_flow": null,
            "grid_area": null,
            "grid_auto_columns": null,
            "grid_auto_flow": null,
            "grid_auto_rows": null,
            "grid_column": null,
            "grid_gap": null,
            "grid_row": null,
            "grid_template_areas": null,
            "grid_template_columns": null,
            "grid_template_rows": null,
            "height": null,
            "justify_content": null,
            "justify_items": null,
            "left": null,
            "margin": null,
            "max_height": null,
            "max_width": null,
            "min_height": null,
            "min_width": null,
            "object_fit": null,
            "object_position": null,
            "order": null,
            "overflow": null,
            "overflow_x": null,
            "overflow_y": null,
            "padding": null,
            "right": null,
            "top": null,
            "visibility": null,
            "width": null
          }
        },
        "0896755cab084744a8b571fb6d7cb158": {
          "model_module": "@jupyter-widgets/base",
          "model_name": "LayoutModel",
          "model_module_version": "1.2.0",
          "state": {
            "_model_module": "@jupyter-widgets/base",
            "_model_module_version": "1.2.0",
            "_model_name": "LayoutModel",
            "_view_count": null,
            "_view_module": "@jupyter-widgets/base",
            "_view_module_version": "1.2.0",
            "_view_name": "LayoutView",
            "align_content": null,
            "align_items": null,
            "align_self": null,
            "border": null,
            "bottom": null,
            "display": null,
            "flex": null,
            "flex_flow": null,
            "grid_area": null,
            "grid_auto_columns": null,
            "grid_auto_flow": null,
            "grid_auto_rows": null,
            "grid_column": null,
            "grid_gap": null,
            "grid_row": null,
            "grid_template_areas": null,
            "grid_template_columns": null,
            "grid_template_rows": null,
            "height": null,
            "justify_content": null,
            "justify_items": null,
            "left": null,
            "margin": null,
            "max_height": null,
            "max_width": null,
            "min_height": null,
            "min_width": null,
            "object_fit": null,
            "object_position": null,
            "order": null,
            "overflow": null,
            "overflow_x": null,
            "overflow_y": null,
            "padding": null,
            "right": null,
            "top": null,
            "visibility": null,
            "width": null
          }
        },
        "1059d055eca14fd6bfb7af994aa1e4c1": {
          "model_module": "@jupyter-widgets/controls",
          "model_name": "DescriptionStyleModel",
          "model_module_version": "1.5.0",
          "state": {
            "_model_module": "@jupyter-widgets/controls",
            "_model_module_version": "1.5.0",
            "_model_name": "DescriptionStyleModel",
            "_view_count": null,
            "_view_module": "@jupyter-widgets/base",
            "_view_module_version": "1.2.0",
            "_view_name": "StyleView",
            "description_width": ""
          }
        },
        "55cebfaa73e640548af8a5678ede83a7": {
          "model_module": "@jupyter-widgets/base",
          "model_name": "LayoutModel",
          "model_module_version": "1.2.0",
          "state": {
            "_model_module": "@jupyter-widgets/base",
            "_model_module_version": "1.2.0",
            "_model_name": "LayoutModel",
            "_view_count": null,
            "_view_module": "@jupyter-widgets/base",
            "_view_module_version": "1.2.0",
            "_view_name": "LayoutView",
            "align_content": null,
            "align_items": null,
            "align_self": null,
            "border": null,
            "bottom": null,
            "display": null,
            "flex": null,
            "flex_flow": null,
            "grid_area": null,
            "grid_auto_columns": null,
            "grid_auto_flow": null,
            "grid_auto_rows": null,
            "grid_column": null,
            "grid_gap": null,
            "grid_row": null,
            "grid_template_areas": null,
            "grid_template_columns": null,
            "grid_template_rows": null,
            "height": null,
            "justify_content": null,
            "justify_items": null,
            "left": null,
            "margin": null,
            "max_height": null,
            "max_width": null,
            "min_height": null,
            "min_width": null,
            "object_fit": null,
            "object_position": null,
            "order": null,
            "overflow": null,
            "overflow_x": null,
            "overflow_y": null,
            "padding": null,
            "right": null,
            "top": null,
            "visibility": null,
            "width": "20px"
          }
        },
        "2a84e2ba4fbc4f3faf909e6fbe1f8e81": {
          "model_module": "@jupyter-widgets/controls",
          "model_name": "ProgressStyleModel",
          "model_module_version": "1.5.0",
          "state": {
            "_model_module": "@jupyter-widgets/controls",
            "_model_module_version": "1.5.0",
            "_model_name": "ProgressStyleModel",
            "_view_count": null,
            "_view_module": "@jupyter-widgets/base",
            "_view_module_version": "1.2.0",
            "_view_name": "StyleView",
            "bar_color": null,
            "description_width": ""
          }
        },
        "cee0e8b3da08409a8945a8b2fdf83f7e": {
          "model_module": "@jupyter-widgets/base",
          "model_name": "LayoutModel",
          "model_module_version": "1.2.0",
          "state": {
            "_model_module": "@jupyter-widgets/base",
            "_model_module_version": "1.2.0",
            "_model_name": "LayoutModel",
            "_view_count": null,
            "_view_module": "@jupyter-widgets/base",
            "_view_module_version": "1.2.0",
            "_view_name": "LayoutView",
            "align_content": null,
            "align_items": null,
            "align_self": null,
            "border": null,
            "bottom": null,
            "display": null,
            "flex": null,
            "flex_flow": null,
            "grid_area": null,
            "grid_auto_columns": null,
            "grid_auto_flow": null,
            "grid_auto_rows": null,
            "grid_column": null,
            "grid_gap": null,
            "grid_row": null,
            "grid_template_areas": null,
            "grid_template_columns": null,
            "grid_template_rows": null,
            "height": null,
            "justify_content": null,
            "justify_items": null,
            "left": null,
            "margin": null,
            "max_height": null,
            "max_width": null,
            "min_height": null,
            "min_width": null,
            "object_fit": null,
            "object_position": null,
            "order": null,
            "overflow": null,
            "overflow_x": null,
            "overflow_y": null,
            "padding": null,
            "right": null,
            "top": null,
            "visibility": null,
            "width": null
          }
        },
        "8e9c3704bdcd4902bb2e0e9029900028": {
          "model_module": "@jupyter-widgets/controls",
          "model_name": "DescriptionStyleModel",
          "model_module_version": "1.5.0",
          "state": {
            "_model_module": "@jupyter-widgets/controls",
            "_model_module_version": "1.5.0",
            "_model_name": "DescriptionStyleModel",
            "_view_count": null,
            "_view_module": "@jupyter-widgets/base",
            "_view_module_version": "1.2.0",
            "_view_name": "StyleView",
            "description_width": ""
          }
        }
      }
    }
  },
  "nbformat": 4,
  "nbformat_minor": 0
}